{
 "cells": [
  {
   "cell_type": "markdown",
   "id": "bronze-interaction",
   "metadata": {},
   "source": [
    "This Jupyter notebook revisits the [dwave-examples](https://github.com/dwave-examples) /**[antenna-selection](https://github.com/dwave-examples/antenna-selection)** available on D-Wave github and described in the [D-Wave Webinar | How to Use the Ocean Tools Suite for Quantum Programming](https://youtu.be/ckJ59gsFllU).\n",
    "\n",
    "The main goal here is to explicetely construct the qubo matrix Q. In contrast, the QUBO matrix is not explicitely given in the antenna.py file in the [dwave-examples](https://github.com/dwave-examples) /**[antenna-selection](https://github.com/dwave-examples/antenna-selection)** although it is calculated \"behind the scene\" as pointed out in the [D-Wave Webinar | How to Use the Ocean Tools Suite for Quantum Programming](https://youtu.be/ckJ59gsFllU) video around 26.16. The implementation below is equivalent to the behind the scene construction happening in [dwave-networkx](https://github.com/dwavesystems/dwave-networkx) / [dwave_networkx](https://github.com/dwavesystems/dwave-networkx/tree/main/dwave_networkx) / [algorithms](https://github.com/dwavesystems/dwave-networkx/tree/main/dwave_networkx/algorithms) / [independent_set.py](https://github.com/dwavesystems/dwave-networkx/blob/main/dwave_networkx/algorithms/independent_set.py).\n",
    "\n",
    "\n",
    "\n",
    "In addition, simulated annealing sampler is used. This can be handy is the user does not want to use up some of the time on the quantum annealer (if she or he gets a free minute) to run simple \"hello world\" type programs."
   ]
  },
  {
   "cell_type": "markdown",
   "id": "fancy-traveler",
   "metadata": {},
   "source": [
    "# 1. Formulation"
   ]
  },
  {
   "cell_type": "code",
   "execution_count": 1,
   "id": "prescribed-updating",
   "metadata": {},
   "outputs": [],
   "source": [
    "import neal\n",
    "sampler = neal.SimulatedAnnealingSampler()"
   ]
  },
  {
   "cell_type": "code",
   "execution_count": 2,
   "id": "computational-graphic",
   "metadata": {},
   "outputs": [],
   "source": [
    "vertices = {1,2,3,4,5,6,7} # antennas\n",
    "edges = { (1,2),(1,3),(2,3),(3,4),(3,5),(4,5),(4,6),(5,6),(6,7) }\n",
    "lagrange = 2"
   ]
  },
  {
   "cell_type": "markdown",
   "id": "labeled-clothing",
   "metadata": {},
   "source": [
    "We want to find the largest set of (antenna) locations possible. The binary variable $x_{i}$ represents antenna $i$. It is 0 if antenna $i$ is selected, 0 otherwise. We want to maximize:\n",
    "$$\n",
    "\\sum_{i} x_{i}\n",
    "$$\n",
    "which is equivalent to minimizing:\n",
    "$$\n",
    "-\\sum_{i} x_{i}\n",
    "$$\n",
    "The quantum annealer seeks to minimize the cost function (if not other optional parameter indicates otherwise)."
   ]
  },
  {
   "cell_type": "code",
   "execution_count": 3,
   "id": "atomic-announcement",
   "metadata": {},
   "outputs": [],
   "source": [
    "Q = {}\n",
    "for i in vertices:\n",
    "    Q[(i,i)] = -1."
   ]
  },
  {
   "cell_type": "markdown",
   "id": "based-generic",
   "metadata": {},
   "source": [
    "The constraint here is to avoid antenna interferences, no selected antenna should be connected to a neighbor (no edges between subsets, at 22.32 in [video](https://youtu.be/ckJ59gsFllU)). This is achieved with minimizing the term:\n",
    "$$\n",
    "\\sum_{(u,v)\\in E} x_{u} x_{v}\n",
    "$$"
   ]
  },
  {
   "cell_type": "code",
   "execution_count": 4,
   "id": "documented-field",
   "metadata": {},
   "outputs": [],
   "source": [
    "for i in range(1,8):\n",
    "    for j in range(1,8):\n",
    "        if j <= i:\n",
    "            continue\n",
    "        if (i,j) in edges:\n",
    "            Q[(i,j)] = 1.*lagrange"
   ]
  },
  {
   "cell_type": "code",
   "execution_count": 5,
   "id": "professional-christianity",
   "metadata": {},
   "outputs": [],
   "source": [
    "def print_qubo(qubo):\n",
    "    vn = { k[0] for k in qubo.keys() } # variable numbers\n",
    "    s = '     '\n",
    "    for i in vn:\n",
    "        s += \"{:4d} \".format(i)\n",
    "    print(s)\n",
    "    \n",
    "    for i in vn:\n",
    "        print( \"{:4d} \".format(i), end='' )\n",
    "        for j in vn:\n",
    "            if (i,j) in qubo.keys():\n",
    "                print( \"{: 4.1f} \".format( qubo[(i,j)] ), end='' )\n",
    "            else:\n",
    "                print( \"   _ \", end='' )\n",
    "        print('\\n')"
   ]
  },
  {
   "cell_type": "code",
   "execution_count": 6,
   "id": "satisfactory-leader",
   "metadata": {},
   "outputs": [
    {
     "name": "stdout",
     "output_type": "stream",
     "text": [
      "        1    2    3    4    5    6    7 \n",
      "   1 -1.0  2.0  2.0    _    _    _    _ \n",
      "\n",
      "   2    _ -1.0  2.0    _    _    _    _ \n",
      "\n",
      "   3    _    _ -1.0  2.0  2.0    _    _ \n",
      "\n",
      "   4    _    _    _ -1.0  2.0  2.0    _ \n",
      "\n",
      "   5    _    _    _    _ -1.0  2.0    _ \n",
      "\n",
      "   6    _    _    _    _    _ -1.0  2.0 \n",
      "\n",
      "   7    _    _    _    _    _    _ -1.0 \n",
      "\n"
     ]
    }
   ],
   "source": [
    "print_qubo(Q)"
   ]
  },
  {
   "cell_type": "markdown",
   "id": "cosmetic-sewing",
   "metadata": {},
   "source": [
    "# 2. Solve problem with simulated annealing"
   ]
  },
  {
   "cell_type": "code",
   "execution_count": 7,
   "id": "early-inclusion",
   "metadata": {},
   "outputs": [],
   "source": [
    "#==============================================================================\n",
    "# Simulated annealing:\n",
    "#==============================================================================\n",
    "numruns = 100 # 10000 # max\n",
    "numsweeps = 100 # (int, optional, default=1000) – Number of sweeps or steps.\n",
    "sampler = neal.SimulatedAnnealingSampler()\n",
    "\n",
    "response = sampler.sample_qubo(Q,num_reads=numruns,num_sweeps=numsweeps)"
   ]
  },
  {
   "cell_type": "code",
   "execution_count": 8,
   "id": "colonial-security",
   "metadata": {},
   "outputs": [
    {
     "data": {
      "text/plain": [
       "Sample(sample={1: 1, 2: 0, 3: 0, 4: 1, 5: 0, 6: 0, 7: 1}, energy=-3.0, num_occurrences=1)"
      ]
     },
     "execution_count": 8,
     "metadata": {},
     "output_type": "execute_result"
    }
   ],
   "source": [
    "response.first"
   ]
  },
  {
   "cell_type": "code",
   "execution_count": 9,
   "id": "gross-furniture",
   "metadata": {},
   "outputs": [],
   "source": [
    "sample = response.first.sample"
   ]
  },
  {
   "cell_type": "code",
   "execution_count": 10,
   "id": "provincial-baker",
   "metadata": {},
   "outputs": [],
   "source": [
    "solution = [v for v in sample.values()]"
   ]
  },
  {
   "cell_type": "code",
   "execution_count": 11,
   "id": "rational-layer",
   "metadata": {},
   "outputs": [
    {
     "data": {
      "text/plain": [
       "[1, 0, 0, 1, 0, 0, 1]"
      ]
     },
     "execution_count": 11,
     "metadata": {},
     "output_type": "execute_result"
    }
   ],
   "source": [
    "solution"
   ]
  },
  {
   "cell_type": "code",
   "execution_count": 12,
   "id": "digital-biotechnology",
   "metadata": {},
   "outputs": [],
   "source": [
    "solution2 = [ i+1 for i,si in enumerate(solution) if si==1 ]"
   ]
  },
  {
   "cell_type": "code",
   "execution_count": 13,
   "id": "ongoing-thanks",
   "metadata": {},
   "outputs": [
    {
     "data": {
      "text/plain": [
       "[1, 4, 7]"
      ]
     },
     "execution_count": 13,
     "metadata": {},
     "output_type": "execute_result"
    }
   ],
   "source": [
    "solution2"
   ]
  },
  {
   "cell_type": "code",
   "execution_count": 14,
   "id": "checked-begin",
   "metadata": {},
   "outputs": [],
   "source": [
    "## import networkx for graph tools\n",
    "import networkx as nx\n",
    "\n",
    "## import matplotlib.pyplot to draw graphs on screen\n",
    "import matplotlib.pyplot as plt"
   ]
  },
  {
   "cell_type": "code",
   "execution_count": 15,
   "id": "hired-union",
   "metadata": {},
   "outputs": [],
   "source": [
    "## Create empty graph\n",
    "G = nx.Graph()\n",
    "\n",
    "## Add edges to graph - this also adds the nodes\n",
    "G.add_edges_from([(1,2),(1,3),(2,3),(3,4),(3,5),(4,5),(4,6),(5,6),(6,7)])"
   ]
  },
  {
   "cell_type": "code",
   "execution_count": 16,
   "id": "standard-avenue",
   "metadata": {},
   "outputs": [
    {
     "data": {
      "image/png": "[encoded data removed]",
      "text/plain": [
       "<Figure size 432x288 with 1 Axes>"
      ]
     },
     "metadata": {},
     "output_type": "display_data"
    }
   ],
   "source": [
    "k = G.subgraph(solution2)\n",
    "notS = list(set(G.nodes())-set(solution2))\n",
    "othersubgraph = G.subgraph(notS)\n",
    "pos = nx.spring_layout(G)\n",
    "plt.figure()\n",
    "nx.draw(G,pos=pos,with_labels=True, node_color='b', font_color='w')\n",
    "nx.draw(k,pos=pos,with_labels=True, node_color='r', font_color='k')\n",
    "nx.draw(othersubgraph,pos=pos, node_color='b')\n",
    "plt.show()"
   ]
  },
  {
   "cell_type": "markdown",
   "id": "iraqi-crawford",
   "metadata": {},
   "source": [
    "Check that the QUBO Q built above is the same as the qubo that was built in [independent_set.py](https://github.com/dwavesystems/dwave-networkx/blob/0b0bef77b04f4b383368e635ae1ffa5fcb75aeef/dwave_networkx/algorithms/independent_set.py):"
   ]
  },
  {
   "cell_type": "code",
   "execution_count": 17,
   "id": "accepted-leave",
   "metadata": {},
   "outputs": [],
   "source": [
    "weight=None\n",
    "lagrange=2.0"
   ]
  },
  {
   "cell_type": "code",
   "execution_count": 18,
   "id": "friendly-biography",
   "metadata": {},
   "outputs": [],
   "source": [
    "cost = dict(G.nodes(data=weight, default=1))\n",
    "scale = max(cost.values())\n",
    "Q2 = {(node, node): min(-cost[node] / scale, 0.0) for node in G}\n",
    "Q2.update({edge: lagrange for edge in G.edges})"
   ]
  },
  {
   "cell_type": "code",
   "execution_count": 19,
   "id": "numerical-viking",
   "metadata": {},
   "outputs": [
    {
     "data": {
      "text/plain": [
       "{(1, 1): -1.0,\n",
       " (2, 2): -1.0,\n",
       " (3, 3): -1.0,\n",
       " (4, 4): -1.0,\n",
       " (5, 5): -1.0,\n",
       " (6, 6): -1.0,\n",
       " (7, 7): -1.0,\n",
       " (1, 2): 2.0,\n",
       " (1, 3): 2.0,\n",
       " (2, 3): 2.0,\n",
       " (3, 4): 2.0,\n",
       " (3, 5): 2.0,\n",
       " (4, 5): 2.0,\n",
       " (4, 6): 2.0,\n",
       " (5, 6): 2.0,\n",
       " (6, 7): 2.0}"
      ]
     },
     "execution_count": 19,
     "metadata": {},
     "output_type": "execute_result"
    }
   ],
   "source": [
    "Q2"
   ]
  },
  {
   "cell_type": "code",
   "execution_count": 20,
   "id": "double-population",
   "metadata": {},
   "outputs": [
    {
     "data": {
      "text/plain": [
       "True"
      ]
     },
     "execution_count": 20,
     "metadata": {},
     "output_type": "execute_result"
    }
   ],
   "source": [
    "Q == Q2"
   ]
  },
  {
   "cell_type": "markdown",
   "id": "divine-celebrity",
   "metadata": {},
   "source": [
    "# 4. Solve maximum independent set"
   ]
  },
  {
   "cell_type": "code",
   "execution_count": 21,
   "id": "sunset-procedure",
   "metadata": {},
   "outputs": [],
   "source": [
    "## import dwave_networkx for d-wave functions\n",
    "import dwave_networkx as dnx"
   ]
  },
  {
   "cell_type": "markdown",
   "id": "educated-catholic",
   "metadata": {},
   "source": [
    "[dwave-networkx](https://github.com/dwavesystems/dwave-networkx/tree/0b0bef77b04f4b383368e635ae1ffa5fcb75aeef/dwave_networkx)"
   ]
  },
  {
   "cell_type": "code",
   "execution_count": 22,
   "id": "rotary-rainbow",
   "metadata": {},
   "outputs": [],
   "source": [
    "## Find the maximum independent set, S\n",
    "S = dnx.maximum_independent_set(G, sampler=sampler, num_reads=10)"
   ]
  },
  {
   "cell_type": "code",
   "execution_count": 23,
   "id": "micro-niger",
   "metadata": {},
   "outputs": [
    {
     "name": "stdout",
     "output_type": "stream",
     "text": [
      "Maximum independent set size found is 3\n",
      "[1, 5, 7]\n"
     ]
    },
    {
     "data": {
      "image/png": "[encoded data removed]",
      "text/plain": [
       "<Figure size 432x288 with 1 Axes>"
      ]
     },
     "metadata": {},
     "output_type": "display_data"
    }
   ],
   "source": [
    "## Print the solution for the user\n",
    "print('Maximum independent set size found is', len(S))\n",
    "print(S)\n",
    "\n",
    "## Visualize the results\n",
    "#    Red nodes are in the set, blue nodes are not\n",
    "k = G.subgraph(S)\n",
    "notS = list(set(G.nodes())-set(S))\n",
    "othersubgraph = G.subgraph(notS)\n",
    "pos = nx.spring_layout(G)\n",
    "plt.figure()\n",
    "nx.draw(G,pos=pos,with_labels=True, node_color='b', font_color='w')\n",
    "nx.draw(k,pos=pos,with_labels=True, node_color='r', font_color='k')\n",
    "nx.draw(othersubgraph,pos=pos, node_color='b')\n",
    "plt.show()"
   ]
  },
  {
   "cell_type": "code",
   "execution_count": 24,
   "id": "median-cabinet",
   "metadata": {},
   "outputs": [
    {
     "data": {
      "text/plain": [
       "[1, 5, 7]"
      ]
     },
     "execution_count": 24,
     "metadata": {},
     "output_type": "execute_result"
    }
   ],
   "source": [
    "S"
   ]
  },
  {
   "cell_type": "code",
   "execution_count": null,
   "id": "thirty-savannah",
   "metadata": {},
   "outputs": [],
   "source": []
  }
 ],
 "metadata": {
  "kernelspec": {
   "display_name": "Python 3",
   "language": "python",
   "name": "python3"
  },
  "language_info": {
   "codemirror_mode": {
    "name": "ipython",
    "version": 3
   },
   "file_extension": ".py",
   "mimetype": "text/x-python",
   "name": "python",
   "nbconvert_exporter": "python",
   "pygments_lexer": "ipython3",
   "version": "3.8.7"
  }
 },
 "nbformat": 4,
 "nbformat_minor": 5
}
